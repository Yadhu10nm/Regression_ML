{
 "cells": [
  {
   "cell_type": "code",
   "execution_count": 150,
   "id": "c1b92bcf-3cb5-404c-98f1-eec51e8dc3ec",
   "metadata": {},
   "outputs": [],
   "source": [
    "import os\n",
    "os.chdir(r'C:\\MACHINE_LEARNING\\Regression\\Projects')  # 👈 Change working directory"
   ]
  },
  {
   "cell_type": "code",
   "execution_count": 151,
   "id": "786f4114-2176-4ab8-90d7-d6f34dea0222",
   "metadata": {},
   "outputs": [],
   "source": [
    "import pandas as pd\n",
    "import numpy as np\n",
    "from sklearn.linear_model import LinearRegression\n",
    "from sklearn.metrics import mean_squared_error\n",
    "from sklearn.model_selection import train_test_split"
   ]
  },
  {
   "cell_type": "code",
   "execution_count": 152,
   "id": "38b2caf5-ca82-4c87-8685-94a752c311de",
   "metadata": {},
   "outputs": [
    {
     "data": {
      "text/html": [
       "<div>\n",
       "<style scoped>\n",
       "    .dataframe tbody tr th:only-of-type {\n",
       "        vertical-align: middle;\n",
       "    }\n",
       "\n",
       "    .dataframe tbody tr th {\n",
       "        vertical-align: top;\n",
       "    }\n",
       "\n",
       "    .dataframe thead th {\n",
       "        text-align: right;\n",
       "    }\n",
       "</style>\n",
       "<table border=\"1\" class=\"dataframe\">\n",
       "  <thead>\n",
       "    <tr style=\"text-align: right;\">\n",
       "      <th></th>\n",
       "      <th>Brand</th>\n",
       "      <th>RAM</th>\n",
       "      <th>SSD</th>\n",
       "      <th>Processor</th>\n",
       "      <th>Price</th>\n",
       "    </tr>\n",
       "  </thead>\n",
       "  <tbody>\n",
       "    <tr>\n",
       "      <th>0</th>\n",
       "      <td>Dell</td>\n",
       "      <td>16</td>\n",
       "      <td>512</td>\n",
       "      <td>i3</td>\n",
       "      <td>84107</td>\n",
       "    </tr>\n",
       "    <tr>\n",
       "      <th>1</th>\n",
       "      <td>Acer</td>\n",
       "      <td>32</td>\n",
       "      <td>256</td>\n",
       "      <td>Ryzen 5</td>\n",
       "      <td>191247</td>\n",
       "    </tr>\n",
       "    <tr>\n",
       "      <th>2</th>\n",
       "      <td>Asus</td>\n",
       "      <td>4</td>\n",
       "      <td>128</td>\n",
       "      <td>Ryzen 3</td>\n",
       "      <td>36895</td>\n",
       "    </tr>\n",
       "    <tr>\n",
       "      <th>3</th>\n",
       "      <td>Asus</td>\n",
       "      <td>8</td>\n",
       "      <td>128</td>\n",
       "      <td>i5</td>\n",
       "      <td>48600</td>\n",
       "    </tr>\n",
       "    <tr>\n",
       "      <th>4</th>\n",
       "      <td>Acer</td>\n",
       "      <td>8</td>\n",
       "      <td>256</td>\n",
       "      <td>Ryzen 7</td>\n",
       "      <td>72096</td>\n",
       "    </tr>\n",
       "  </tbody>\n",
       "</table>\n",
       "</div>"
      ],
      "text/plain": [
       "  Brand  RAM  SSD Processor   Price\n",
       "0  Dell   16  512        i3   84107\n",
       "1  Acer   32  256   Ryzen 5  191247\n",
       "2  Asus    4  128   Ryzen 3   36895\n",
       "3  Asus    8  128        i5   48600\n",
       "4  Acer    8  256   Ryzen 7   72096"
      ]
     },
     "execution_count": 152,
     "metadata": {},
     "output_type": "execute_result"
    }
   ],
   "source": [
    "df = pd.read_csv('data/laptop.csv')\n",
    "df.head()"
   ]
  },
  {
   "cell_type": "code",
   "execution_count": null,
   "id": "d02e12a1-5ae7-4de6-bf87-f863792c9c02",
   "metadata": {},
   "outputs": [],
   "source": [
    "data = df.to_numpy()\n",
    "x = data[:,0:3]\n",
    "y = data[:,3].reshape(-1,1)\n",
    "print(x.shape , y.shape)"
   ]
  },
  {
   "cell_type": "code",
   "execution_count": null,
   "id": "fdf71756-c24c-4226-81f7-2bb96cc36b84",
   "metadata": {},
   "outputs": [],
   "source": [
    "x_train , x_test , y_train , y_test = train_test_split(x , y , test_size = 0.2 , random_state = 42)\n",
    "print(x_train.shape , x_test.shape , y_train.shape , y_test.shape)"
   ]
  },
  {
   "cell_type": "code",
   "execution_count": null,
   "id": "f7170c7b-549e-45a8-b0a0-40b33796fa92",
   "metadata": {},
   "outputs": [],
   "source": [
    "model = LinearRegression()"
   ]
  },
  {
   "cell_type": "code",
   "execution_count": null,
   "id": "991d4794-c4b2-4575-934e-cbdf5648a060",
   "metadata": {},
   "outputs": [],
   "source": [
    "model.fit(x_train , y_train)"
   ]
  },
  {
   "cell_type": "code",
   "execution_count": null,
   "id": "c624ef21-2329-4348-8020-a3d4b249805e",
   "metadata": {},
   "outputs": [],
   "source": [
    "y_pred = model.predict(x_test)"
   ]
  },
  {
   "cell_type": "code",
   "execution_count": null,
   "id": "c94a52f4-bd87-4a43-9d35-1695a89f2250",
   "metadata": {},
   "outputs": [],
   "source": [
    "mse = mean_squared_error(y_pred , y_test)\n",
    "mse"
   ]
  },
  {
   "cell_type": "code",
   "execution_count": null,
   "id": "d0fb96a8-5668-4ddc-aa5f-5205d748c339",
   "metadata": {},
   "outputs": [],
   "source": [
    "pred = model.predict(np.array([[8 , 512 , 15.6]]))[0][0]\n",
    "int(pred)"
   ]
  },
  {
   "cell_type": "code",
   "execution_count": null,
   "id": "911b90a1-b795-4c8b-b455-76cc3dcd0a38",
   "metadata": {},
   "outputs": [],
   "source": []
  }
 ],
 "metadata": {
  "kernelspec": {
   "display_name": "Python 3 (ipykernel)",
   "language": "python",
   "name": "python3"
  },
  "language_info": {
   "codemirror_mode": {
    "name": "ipython",
    "version": 3
   },
   "file_extension": ".py",
   "mimetype": "text/x-python",
   "name": "python",
   "nbconvert_exporter": "python",
   "pygments_lexer": "ipython3",
   "version": "3.12.5"
  }
 },
 "nbformat": 4,
 "nbformat_minor": 5
}
